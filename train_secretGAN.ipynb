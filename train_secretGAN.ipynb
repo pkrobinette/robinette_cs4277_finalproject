{
 "cells": [
  {
   "cell_type": "markdown",
   "id": "051a6e14",
   "metadata": {},
   "source": [
    "# Steganography with Generative Adversarial Networks (GANs)"
   ]
  },
  {
   "cell_type": "code",
   "execution_count": null,
   "id": "6fd5ff38",
   "metadata": {},
   "outputs": [],
   "source": [
    "import torch\n",
    "from torch import nn\n",
    "import torchvision\n",
    "import torchvision.transforms as transforms\n",
    "\n",
    "import math\n",
    "import matplotlib.pyplot as plt\n",
    "import numpy as np\n",
    "\n",
    "torch.manual_seed(111)"
   ]
  },
  {
   "cell_type": "code",
   "execution_count": null,
   "id": "f012b443",
   "metadata": {},
   "outputs": [],
   "source": [
    "class DiscriminatorNetwork(nn.Module):\n",
    "    def __init__(self):\n",
    "        super().__init__()\n",
    "        self.model = nn.Sequential(\n",
    "            nn.Linear(784, 1024),\n",
    "            nn.ReLU(),\n",
    "            nn.Dropout(0.3),\n",
    "            nn.Linear(1024, 512),\n",
    "            nn.ReLU(),\n",
    "            nn.Dropout(0.3),\n",
    "            nn.Linear(512, 256),\n",
    "            nn.ReLU(),\n",
    "            nn.Dropout(0.3),\n",
    "            nn.Linear(256, 1),\n",
    "            nn.Sigmoid(),\n",
    "        )\n",
    "\n",
    "    def forward(self, x):\n",
    "        # flatten the input image\n",
    "        x = x.view(x.size(0), 784)\n",
    "        output = self.model(x)\n",
    "        \n",
    "        return output"
   ]
  },
  {
   "cell_type": "code",
   "execution_count": null,
   "id": "d0fb7c26",
   "metadata": {},
   "outputs": [],
   "source": [
    "class GeneratorSecretNetwork(nn.Module):\n",
    "    def __init__(self):\n",
    "        super().__init__()\n",
    "        self.model = nn.Sequential(\n",
    "            nn.Linear(784, 256),\n",
    "            nn.ReLU(),\n",
    "            nn.Linear(256, 512),\n",
    "            nn.ReLU(),\n",
    "            nn.Linear(512, 1024),\n",
    "            nn.ReLU(),\n",
    "            nn.Linear(1024, 784),\n",
    "            nn.Tanh(),\n",
    "        )\n",
    "\n",
    "    def forward(self, x):\n",
    "        x = x.view(x.size(0), 784)\n",
    "        output = self.model(x)\n",
    "        # reshape the image\n",
    "        output = output.view(x.size(0), 1, 28, 28)\n",
    "        \n",
    "        return output"
   ]
  },
  {
   "cell_type": "code",
   "execution_count": null,
   "id": "efd38680",
   "metadata": {},
   "outputs": [],
   "source": [
    "class SecretGAN():\n",
    "    \"\"\"\n",
    "    A GAN trained to hide messages in images\n",
    "    \"\"\"\n",
    "    def __init__(self, lr=0.0001, batch_size= 32, epochs=50):\n",
    "        # Parameters\n",
    "        self.lr = lr\n",
    "        self.epochs = epochs\n",
    "        self.batch_size = batch_size\n",
    "        self.train_loader = None\n",
    "        self.logger = {\n",
    "            'loss_d': [],\n",
    "            'loss_g': []\n",
    "        }\n",
    "        \n",
    "        # Networks\n",
    "        self.generator = GeneratorSecretNetwork()\n",
    "        self.discriminator = DiscriminatorNetwork()\n",
    "        \n",
    "        # Optimizers\n",
    "        self.loss_func = nn.BCELoss()\n",
    "        self.discriminator_optimizer = torch.optim.Adam(self.discriminator.parameters(), lr=lr)\n",
    "        self.generator_optimizer = torch.optim.Adam(self.generator.parameters(), lr=lr)\n",
    "        \n",
    "        \n",
    "    def load_mnist(self):\n",
    "        \"\"\"\n",
    "        Load the MNIST dataset\n",
    "        \"\"\"\n",
    "        compose = transforms.Compose(\n",
    "            [transforms.ToTensor(), transforms.Normalize((0.5,), (0.5,))])\n",
    "        \n",
    "        train_set = torchvision.datasets.MNIST(\n",
    "            root=\".\", \n",
    "            train=True, \n",
    "            download=True, \n",
    "            transform=compose\n",
    "        )\n",
    "        \n",
    "        self.train_loader = torch.utils.data.DataLoader(\n",
    "            train_set, batch_size=self.batch_size, shuffle=True\n",
    "        )\n",
    "        \n",
    "        \n",
    "    \n",
    "    def train(self):\n",
    "        \"\"\"\n",
    "        Train the GAN\n",
    "        \"\"\"\n",
    "        batch_size = 32\n",
    "        for epoch in range(self.epochs):\n",
    "            for i, (real_samples, mnist_labels) in enumerate(self.train_loader):\n",
    "                real_labels = torch.ones((self.batch_size, 1))\n",
    "                generated_samples = self.generator(real_samples)\n",
    "                generated_labels = torch.zeros((self.batch_size, 1))\n",
    "                comb_samples = torch.cat((real_samples, generated_samples))\n",
    "                comb_labels = torch.cat((real_labels, generated_labels))\n",
    "                \n",
    "                # train the discriminator\n",
    "                out_d = self.discriminator(comb_samples)\n",
    "                self.discriminator.zero_grad()\n",
    "                loss_d = self.loss_func(out_d, comb_labels)\n",
    "                loss_d.backward()\n",
    "                self.discriminator_optimizer.step()\n",
    "                \n",
    "                \n",
    "                # train the generator\n",
    "                hidden_msgs = self.generator(real_samples)\n",
    "                msgs_detected = self.discriminator(hidden_msgs)\n",
    "                self.generator.zero_grad()\n",
    "                loss_g = self.loss_func(msgs_detected, real_labels)\n",
    "                loss_g.backward()\n",
    "                self.generator_optimizer.step()\n",
    "                \n",
    "                # log data\n",
    "                if i == self.batch_size-1:\n",
    "                    print('Epoch: {} | Loss D: {} | Loss G: {}'.format(epoch, loss_d, loss_g))\n",
    "                    self.logger['loss_d'].append(loss_d.detach().item())\n",
    "                    self.logger['loss_g'].append(loss_g.detach().item())\n",
    "                    \n",
    "                    \n",
    "    def generate_hidden_msg(self):\n",
    "        \"\"\"\n",
    "        Test the generator\n",
    "        \"\"\"\n",
    "        imgs, labels = next(iter(self.train_loader))\n",
    "        latent_msgs = torch.randn(self.batch_size, 100)\n",
    "        hidden_msgs = self.generator(imgs, latent_msgs)\n",
    "        hidden_msgs = hidden_msgs.detach()\n",
    "\n",
    "        return hidden_msgs\n",
    "    \n",
    "\n",
    "    def compare_images(self, path=None):\n",
    "        \"\"\"\n",
    "        Create a plot to compare real and generated images\n",
    "        \"\"\"\n",
    "        real, labels = next(iter(self.train_loader))\n",
    "        generated = self.generate_hidden_msg()\n",
    "\n",
    "        plt.figure(figsize=(13, 13))\n",
    "        \n",
    "        for i in range(self.batch_size*2):\n",
    "            if i%2 == 0:\n",
    "                ax = plt.subplot(8, 8, i+1)\n",
    "                ax.set_title(\"real:\"+str(int(i/2)))  # set title\n",
    "                plt.imshow(real[int(i/2)].reshape(28,28), cmap=\"gray_r\")\n",
    "                plt.xticks([])\n",
    "                plt.yticks([])\n",
    "  \n",
    "                ax = plt.subplot(8, 8, i+2)\n",
    "                ax.set_title(\"fake:\"+str(int(i/2)))\n",
    "                plt.imshow(generated[int(i/2)].reshape(28,28), cmap=\"gray_r\")\n",
    "                plt.xticks([])\n",
    "                plt.yticks([])\n",
    "            \n",
    "        if path != None:\n",
    "            plt.savefig(path+'.png')\n",
    "        plt.show()\n",
    "        \n",
    "                    \n",
    "    def show_images(self, samples=None):\n",
    "        \"\"\"\n",
    "        Show real and generated images\n",
    "        \"\"\"\n",
    "        if samples == None:\n",
    "            samples, labels = next(iter(self.train_loader))\n",
    "        for i in range(self.batch_size):\n",
    "            ax = plt.subplot(4, 8, i + 1)\n",
    "            plt.imshow(samples[i].reshape(28, 28), cmap=\"gray_r\")\n",
    "            plt.xticks([])\n",
    "            plt.yticks([])\n",
    "                    \n",
    "                    \n",
    "    def plot_training(self):\n",
    "        \"\"\"\n",
    "        Plot the generator and discriminator loss\n",
    "        \"\"\"\n",
    "        plt.figure(1)\n",
    "        plt.plot(self.logger['loss_g'], label='Generator Loss')\n",
    "        plt.plot(self.logger['loss_d'], label='Discriminator Loss')\n",
    "        plt.xlabel('Epochs')\n",
    "        plt.ylabel('Loss')\n",
    "        plt.title('Generator and Discriminator Loss')\n",
    "        plt.legend()\n",
    "        plt.show()\n",
    "        \n",
    "    \n",
    "    def save(self, disc_path, gen_path):\n",
    "        \"\"\"\n",
    "        Save the generator and discriminator\n",
    "        \"\"\"\n",
    "        # save discriminator\n",
    "        torch.save(self.discriminator, disc_path)\n",
    "        # save generator\n",
    "        torch.save(self.generator, gen_path)\n",
    "        \n",
    "    def load(self, disc_path, gen_path):\n",
    "        \"\"\"\n",
    "        Load the generator and discriminator\n",
    "        \"\"\"\n",
    "        # load discriminator\n",
    "        self.discriminator = torch.load(disc_path)\n",
    "        # load the generator\n",
    "        self.generator = torch.load(gen_path)\n",
    "        \n",
    "        \n",
    "                \n",
    "        \n",
    "        "
   ]
  },
  {
   "cell_type": "markdown",
   "id": "1883dcfd",
   "metadata": {},
   "source": [
    "### Load GAN"
   ]
  },
  {
   "cell_type": "code",
   "execution_count": null,
   "id": "ba7580ed",
   "metadata": {},
   "outputs": [],
   "source": [
    "net = SecretGAN()"
   ]
  },
  {
   "cell_type": "markdown",
   "id": "da9c8d5b",
   "metadata": {},
   "source": [
    "### Load MNIST Dataset"
   ]
  },
  {
   "cell_type": "code",
   "execution_count": null,
   "id": "0877496e",
   "metadata": {},
   "outputs": [],
   "source": [
    "net.load_mnist()"
   ]
  },
  {
   "cell_type": "markdown",
   "id": "0111e30d",
   "metadata": {},
   "source": [
    "### Show MNIST Images"
   ]
  },
  {
   "cell_type": "code",
   "execution_count": null,
   "id": "a049853b",
   "metadata": {},
   "outputs": [],
   "source": [
    "net.show_images()"
   ]
  },
  {
   "cell_type": "markdown",
   "id": "e00e518d",
   "metadata": {},
   "source": [
    "### Train GAN"
   ]
  },
  {
   "cell_type": "code",
   "execution_count": null,
   "id": "c11bcb97",
   "metadata": {},
   "outputs": [],
   "source": [
    "net.train()"
   ]
  },
  {
   "cell_type": "markdown",
   "id": "0558dc2a",
   "metadata": {},
   "source": [
    "### Plot Training Loss"
   ]
  },
  {
   "cell_type": "code",
   "execution_count": null,
   "id": "fa2196fd",
   "metadata": {},
   "outputs": [],
   "source": [
    "net.plot_training()"
   ]
  },
  {
   "cell_type": "markdown",
   "id": "8e01b706",
   "metadata": {},
   "source": [
    "### Compare Real and Generative Images"
   ]
  },
  {
   "cell_type": "code",
   "execution_count": null,
   "id": "b4ef4cc5",
   "metadata": {},
   "outputs": [],
   "source": [
    "net.compare_images()"
   ]
  }
 ],
 "metadata": {
  "kernelspec": {
   "display_name": "gans",
   "language": "python",
   "name": "gans"
  },
  "language_info": {
   "codemirror_mode": {
    "name": "ipython",
    "version": 3
   },
   "file_extension": ".py",
   "mimetype": "text/x-python",
   "name": "python",
   "nbconvert_exporter": "python",
   "pygments_lexer": "ipython3",
   "version": "3.8.12"
  }
 },
 "nbformat": 4,
 "nbformat_minor": 5
}
